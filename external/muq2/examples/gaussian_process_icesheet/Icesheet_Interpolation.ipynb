{
 "cells": [
  {
   "cell_type": "markdown",
   "metadata": {},
   "source": [
    "## Ice Sheet Surface Modeling \n",
    "In order to estimate thinning rates of the Laurentide Ice Sheet in New Hampshire at the end of the Last Glacial Maximum, a modeled ice sheet profile equation (Eq.1) can be used to generate three-dimensional ice sheet surfaces.  By interpolating between transects of modeled ice profiles anchored to dated ice recessional features (i.e. moraines), ice surfaces can be generated to reconstruct regional ice thinning through time (Fig.1).  This example will use MUQ's Gaussian Process capabilities to perform such an interpolation.\n",
    "\n",
    "The input data for this example uses three modeled ice sheet profiles generated from 14.2 ka dated ice marginal feautures.  The data contains UTM coordinates as well as the modeled ice sheet thickness at each coordinate.  Using the example input data provided, an ice sheet surface can be interpolated between the profiles using Gaussian Processes.  \n",
    "\n",
    "\n",
    "\n",
    "\n",
    "$$\n",
    "H = \\sqrt{\\frac{2\\tau L}{\\rho g}} \n",
    "$$\n",
    "\n",
    "\n",
    "Eq. 1: Modeled ice sheet profile equation (Nye, 1952); where $H$ is the thickness of the ice sheet at distance $L$ from the ice sheet margin, $g$ is gravity (9.8 $m/s^2$), $\\rho$ is the density of glacial ice (900 $kg/m^3$), and $\\tau$ is the basal shear stress acting upon the glacier (100 $kPa$).\n",
    "\n",
    "![caption](14.2contours.jpg)\n",
    "Figure 1: Surface reconstruction of the Laurentide Ice Sheet in New Hampshire over basal topography using 14.2 ka dated ice marginal features.  Black lines indicate a 0.25 km increase in ice sheet thickness from south to north.  "
   ]
  },
  {
   "cell_type": "markdown",
   "metadata": {},
   "source": [
    "## Sample Data Format\n",
    "The data to generate ice sheet surfaces is in IceSheetProfiles.csv and contains 3 seperate transects which will be used to interpolate between. Each transect is composed of Lat/Long coordinate data and each coordinate has an ice sheet thickness value assigned to it.  In total there are 9 columns (Longitude, Latitude, and Thickness value for each transect) and 4503 rows of data.\n",
    "\n",
    "## Step 1: \n",
    "Build the ReadData function"
   ]
  },
  {
   "cell_type": "code",
   "execution_count": 89,
   "metadata": {},
   "outputs": [
    {
     "name": "stdout",
     "output_type": "stream",
     "text": [
      "Overwriting Icesheet_Interpolation.cpp\n"
     ]
    }
   ],
   "source": [
    "%%writefile Icesheet_Interpolation.cpp\n",
    "\n",
    "#include <iostream>\n",
    "#include <fstream>\n",
    "#include <string>\n",
    "#include <sstream>\n",
    "#include <Eigen/Dense>\n",
    "\n",
    "#include \"MUQ/Approximation/GaussianProcesses/CovarianceKernels.h\"\n",
    "#include \"MUQ/Approximation/GaussianProcesses/GaussianProcess.h\"\n",
    "\n",
    "using namespace muq::Approximation;\n",
    "using namespace std;\n",
    "\n",
    "// This function reads the csv data and stores the result in a matrix\n",
    "Eigen::MatrixXd ReadData(std::string const& filename)\n",
    "{\n",
    "    Eigen::MatrixXd output;\n",
    "            \n",
    "    // resize the matrix\n",
    "    int numRows = 1000;\n",
    "    int numCols = 3*3; // # transects * [x,y,z]\n",
    "    output.resize(numRows, numCols);\n",
    "    \n",
    "    // open the csv file\n",
    "    ifstream fin(filename);\n",
    "    \n",
    "    string line, part;\n",
    "    getline(fin, line);\n",
    "    getline(fin, line);\n",
    "    for( int i=0; i<numRows; i++)\n",
    "    {\n",
    "        getline(fin,line);\n",
    "        stringstream lineStream(line);\n",
    "        \n",
    "        for(int j=0; j<numCols; ++j)\n",
    "        {\n",
    "            getline(lineStream, part, ',');\n",
    "            output(i,j) = stod(part);\n",
    "        }\n",
    "    }\n",
    "    fin.close();\n",
    "    \n",
    "    // loop \n",
    "    return output;\n",
    "}\n"
   ]
  },
  {
   "cell_type": "markdown",
   "metadata": {},
   "source": [
    "## Step 2: \n",
    "Read in the data\n"
   ]
  },
  {
   "cell_type": "code",
   "execution_count": 90,
   "metadata": {},
   "outputs": [
    {
     "name": "stdout",
     "output_type": "stream",
     "text": [
      "Appending to Icesheet_Interpolation.cpp\n"
     ]
    }
   ],
   "source": [
    "%%writefile -a Icesheet_Interpolation.cpp\n",
    "\n",
    "int main()\n",
    "{\n",
    "    std::string filename = \"IceSheetProfiles.csv\";\n",
    "    \n",
    "    // Read the data from the specified file\n",
    "    Eigen::MatrixXd data;\n",
    "    data = ReadData(filename);\n",
    "    "
   ]
  },
  {
   "cell_type": "markdown",
   "metadata": {},
   "source": [
    "## Step 3:\n",
    "Define the kernel and use it to construct the prior"
   ]
  },
  {
   "cell_type": "code",
   "execution_count": 91,
   "metadata": {},
   "outputs": [
    {
     "name": "stdout",
     "output_type": "stream",
     "text": [
      "Appending to Icesheet_Interpolation.cpp\n"
     ]
    }
   ],
   "source": [
    "%%writefile -a Icesheet_Interpolation.cpp\n",
    "    \n",
    "    // Construct the Gaussian process....\n",
    "    auto kernel = SquaredExpKernel(2, 2.0, 100000);\n",
    "    \n",
    "    // Create the GP\n",
    "    ConstantMean mean(1);\n",
    "    auto gp = ConstructGP(mean, kernel);\n",
    "    "
   ]
  },
  {
   "cell_type": "markdown",
   "metadata": {},
   "source": [
    "## Step 4: \n",
    "Parse the data into two new matrices; one containing all of the lat/long data (2 rows) and the other containing the ice sheet thickness values (1 row)."
   ]
  },
  {
   "cell_type": "code",
   "execution_count": 92,
   "metadata": {},
   "outputs": [
    {
     "name": "stdout",
     "output_type": "stream",
     "text": [
      "Appending to Icesheet_Interpolation.cpp\n"
     ]
    }
   ],
   "source": [
    "%%writefile -a Icesheet_Interpolation.cpp\n",
    "    \n",
    "    // resize the data into trainLocs and trainData\n",
    "    Eigen::MatrixXd trainLocs;\n",
    "        \n",
    "    int numRows = 2;\n",
    "    int numCols = 3*data.rows(); // \n",
    "    trainLocs.resize(numRows, numCols);\n",
    "    \n",
    "    Eigen::MatrixXd trainData(1,numCols);\n",
    "    \n",
    "    int k = 0;\n",
    "    for(int i=0; i<data.rows(); i++)\n",
    "    {\n",
    "        for(int j=0; j<3; j++)\n",
    "        {\n",
    "            trainLocs(0,k) = data(i,3*j);\n",
    "            trainLocs(1,k) = data(i,3*j+1);\n",
    "            trainData(0,k) = data(i,3*j+2);\n",
    "            k++;\n",
    "        }\n",
    "    }\n",
    "\n",
    "    "
   ]
  },
  {
   "cell_type": "markdown",
   "metadata": {},
   "source": [
    "## Step 5: \n",
    "Compute the posterior"
   ]
  },
  {
   "cell_type": "code",
   "execution_count": 93,
   "metadata": {},
   "outputs": [
    {
     "name": "stdout",
     "output_type": "stream",
     "text": [
      "Appending to Icesheet_Interpolation.cpp\n"
     ]
    }
   ],
   "source": [
    "%%writefile -a Icesheet_Interpolation.cpp\n",
    "    \n",
    "    gp.Fit(trainLocs,trainData);\n",
    "    "
   ]
  },
  {
   "cell_type": "markdown",
   "metadata": {},
   "source": [
    "## Step 6:\n",
    "Define where to identify the posterior"
   ]
  },
  {
   "cell_type": "code",
   "execution_count": 94,
   "metadata": {},
   "outputs": [
    {
     "name": "stdout",
     "output_type": "stream",
     "text": [
      "Appending to Icesheet_Interpolation.cpp\n"
     ]
    }
   ],
   "source": [
    "%%writefile -a Icesheet_Interpolation.cpp\n",
    "    \n",
    "    Eigen::MatrixXd predLocs;\n",
    "    \n",
    "    double lonMin = trainLocs.row(0).minCoeff();    \n",
    "    double latMin = trainLocs.row(1).minCoeff();\n",
    "    double latMax = trainLocs.row(1).maxCoeff();\n",
    "    double lonMax = trainLocs.row(0).maxCoeff();\n",
    "    \n",
    "    int numLon = 20; \n",
    "    int numLat = 20;\n",
    "    \n",
    "    predLocs.resize(numRows, numLon*numLat);\n",
    "    \n",
    "    k = 0;\n",
    "    for(int i=0; i<numLon; i++)\n",
    "    {\n",
    "        for(int j=0; j<numLat; j++)\n",
    "        {\n",
    "            predLocs(0,k) = lonMin + i*((lonMax-lonMin)/numLon);\n",
    "            predLocs(1,k) = latMin + j*((latMax-latMin)/numLat);\n",
    "            k++;\n",
    "        }\n",
    "    }\n",
    "    "
   ]
  },
  {
   "cell_type": "markdown",
   "metadata": {},
   "source": [
    "## Step 7:\n",
    "Identify the posterior at the defined locations"
   ]
  },
  {
   "cell_type": "code",
   "execution_count": 95,
   "metadata": {},
   "outputs": [
    {
     "name": "stdout",
     "output_type": "stream",
     "text": [
      "Appending to Icesheet_Interpolation.cpp\n"
     ]
    }
   ],
   "source": [
    "%%writefile -a Icesheet_Interpolation.cpp   \n",
    "    \n",
    "    auto preds = gp.Predict(predLocs);\n",
    "    "
   ]
  },
  {
   "cell_type": "markdown",
   "metadata": {},
   "source": [
    "## Step 8:\n",
    "Output the predictions file into a .csv"
   ]
  },
  {
   "cell_type": "code",
   "execution_count": 96,
   "metadata": {},
   "outputs": [
    {
     "name": "stdout",
     "output_type": "stream",
     "text": [
      "Appending to Icesheet_Interpolation.cpp\n"
     ]
    }
   ],
   "source": [
    "%%writefile -a Icesheet_Interpolation.cpp\n",
    "\n",
    "    std::string outputFile = \"PredictedThickness.csv\";\n",
    "    std::ofstream fout(outputFile);\n",
    "    for(int j=0; j<predLocs.cols(); j++)\n",
    "        fout << predLocs(0,j) << \", \" << predLocs(1,j) << \", \" << preds.mean(j) << \"\\n\";\n",
    "    \n",
    "    fout.close();\n",
    "    \n",
    "    return 0;\n",
    "}"
   ]
  },
  {
   "cell_type": "markdown",
   "metadata": {},
   "source": [
    "## Step 9:\n",
    "Build and compile in C++"
   ]
  },
  {
   "cell_type": "code",
   "execution_count": 97,
   "metadata": {},
   "outputs": [
    {
     "name": "stdout",
     "output_type": "stream",
     "text": [
      "-- Configuring done\n",
      "-- Generating done\n",
      "-- Build files have been written to: /Users/rdcrltsh/Documents/Repositories/muq-private/examples/gaussian_process_icesheet/build\n",
      "Scanning dependencies of target Interpolation\n",
      "[ 50%] Building CXX object CMakeFiles/Interpolation.dir/Icesheet_Interpolation.cpp.o\n",
      "[100%] Linking CXX executable Interpolation\n",
      "[100%] Built target Interpolation\n"
     ]
    },
    {
     "name": "stderr",
     "output_type": "stream",
     "text": [
      "MUQ_LIBRARIES = /Users/rdcrltsh/Installations/MUQ/lib/libmuqModelingCore.dylib\n",
      "MUQ_LINK_LIBRARIES = /Users/rdcrltsh/Installations/MUQ/muq_external/lib/libboost_filesystem.dylib;/Users/rdcrltsh/Installations/MUQ/muq_external/lib/libboost_system.dylib;/Users/rdcrltsh/Installations/MUQ/muq_external/lib/libboost_timer.dylib;/Users/rdcrltsh/Installations/MUQ/muq_external/lib/libboost_chrono.dylib;/Users/rdcrltsh/Installations/MUQ/muq_external/lib/libboost_graph.dylib;/Users/rdcrltsh/Installations/MUQ/muq_external/lib/libboost_serialization.dylib;/Users/rdcrltsh/Installations/MUQ/muq_external/lib/libboost_regex.dylib;/Users/rdcrltsh/Installations/MUQ/muq_external/lib/libboost_wserialization.dylib;/Users/rdcrltsh/Installations/MUQ/muq_external/lib/libboost_math_tr1.dylib;/Users/rdcrltsh/Installations/MUQ/muq_external/lib/libboost_math_tr1f.dylib;/Users/rdcrltsh/Installations/MUQ/muq_external/lib/libboost_math_tr1l.dylib\n"
     ]
    }
   ],
   "source": [
    "%%bash \n",
    "cd build; cmake ../; make; cd ../"
   ]
  },
  {
   "cell_type": "code",
   "execution_count": 98,
   "metadata": {},
   "outputs": [],
   "source": [
    "%%bash \n",
    "export DYLD_LIBRARY_PATH=$DYLD_LIBRARY_PATH:/Users/rdcrltsh/Installations/MUQ/lib:/Users/rdcrltsh/Installations/MUQ/muq_external/lib\n",
    "build/Interpolation"
   ]
  },
  {
   "cell_type": "markdown",
   "metadata": {},
   "source": [
    "## Step 10:\n",
    "Validate the results and export the data in a form that can be used in ArcGIS."
   ]
  },
  {
   "cell_type": "code",
   "execution_count": 99,
   "metadata": {},
   "outputs": [
    {
     "data": {
      "image/png": "[encoded data removed]",
      "text/plain": [
       "<matplotlib.figure.Figure at 0x11932ae48>"
      ]
     },
     "metadata": {},
     "output_type": "display_data"
    }
   ],
   "source": [
    "import pandas as pd\n",
    "data = pd.read_csv('PredictedThickness.csv', header=None, names=['Longitude', 'Latitude', 'Thickness'])\n",
    "\n",
    "import matplotlib.pyplot as plt\n",
    "xData = data['Longitude']\n",
    "yData = data['Latitude']\n",
    "zData = data['Thickness']\n",
    "\n",
    "plt.figure()\n",
    "plt.scatter(xData, yData, s = 10*zData)\n",
    "plt.show()"
   ]
  },
  {
   "cell_type": "code",
   "execution_count": null,
   "metadata": {},
   "outputs": [],
   "source": []
  }
 ],
 "metadata": {
  "kernelspec": {
   "display_name": "Python [default]",
   "language": "python",
   "name": "python3"
  },
  "language_info": {
   "codemirror_mode": {
    "name": "ipython",
    "version": 3
   },
   "file_extension": ".py",
   "mimetype": "text/x-python",
   "name": "python",
   "nbconvert_exporter": "python",
   "pygments_lexer": "ipython3",
   "version": "3.5.2"
  }
 },
 "nbformat": 4,
 "nbformat_minor": 1
}
