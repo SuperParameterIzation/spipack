{
 "cells": [
  {
   "cell_type": "code",
   "execution_count": null,
   "metadata": {},
   "outputs": [],
   "source": [
    "# tell python where the MUQ libraries are installed\n",
    "import sys\n",
    "sys.path.insert(0, \"/my/muq/dir/build/install/lib/\")\n",
    "\n",
    "# import ploting tools\n",
    "import matplotlib as mpl\n",
    "#mpl.use('TKAgg')\n",
    "import matplotlib.pyplot as plt\n",
    "\n",
    "# import numpy, which we use for linear algebra in python\n",
    "import numpy as np\n",
    "\n",
    "import h5py\n",
    "\n",
    "import random\n",
    "\n",
    "# import the MUQ libraries\n",
    "import pymuqUtilities as mu # import MUQ utilities module\n",
    "import pymuqModeling as mm # import MUQ modeling module\n",
    "import pymuqApproximationWrappers as ma # import MUQ approximation module\n",
    "import pymuqSamplingAlgorithms as msa\n"
   ]
  },
  {
   "cell_type": "code",
   "execution_count": null,
   "metadata": {},
   "outputs": [],
   "source": [
    "cov = np.array([[1.0,0.3],[0.2,1.5]]) # covariance\n",
    "\n",
    "m = np.array([.8, 2.4]) # mean\n",
    "targetDensity = mm.Gaussian(m, cov * 2.0).AsDensity()\n",
    "problem_coarse12 = msa.SamplingProblem(targetDensity)\n",
    "\n",
    "m = np.array([.8, 2.1]) # mean\n",
    "#cov = np.array([[1.0,0.8],[0.8,1.5]]) # covariance\n",
    "targetDensity = mm.Gaussian(m, cov * 1.3).AsDensity()\n",
    "problem_coarse1 = msa.SamplingProblem(targetDensity)\n",
    "\n",
    "m = np.array([0.95, 2.4]) # mean\n",
    "#cov = np.array([[1.0,0.8],[0.8,1.5]]) # covariance\n",
    "targetDensity = mm.Gaussian(m, cov * 1.5).AsDensity()\n",
    "problem_coarse2 = msa.SamplingProblem(targetDensity)\n",
    "\n",
    "m = np.array([1.0, 2.0]) # mean\n",
    "#cov = np.array([[1.0,0.8],[0.8,1.5]]) # covariance\n",
    "targetDensity = mm.Gaussian(m, cov).AsDensity()\n",
    "problem_fine = msa.SamplingProblem(targetDensity)"
   ]
  },
  {
   "cell_type": "code",
   "execution_count": null,
   "metadata": {},
   "outputs": [],
   "source": [
    "nmcmc = 10000\n",
    "trueCoeff = m\n",
    "\n",
    "# MCMC\n",
    "options = dict()\n",
    "options['NumSamples'] = nmcmc\n",
    "options['PrintLevel'] = 3\n",
    "options['KernelList'] = 'Kernel1'\n",
    "options['Kernel1.Method'] = 'MHKernel'\n",
    "options['Kernel1.Proposal'] = 'MyProposal'\n",
    "options['Kernel1.MyProposal.Method'] = 'AMProposal'\n",
    "options['Kernel1.MyProposal.InitialVariance'] = 0.01\n",
    "options['Kernel1.MyProposal.AdaptSteps'] = 50\n",
    "options['Kernel1.MyProposal.AdaptStart'] = 100\n",
    "\n",
    "# create the MCMC sampler\n",
    "mcmc = msa.SingleChainMCMC(options, problem_fine)\n",
    "samps = mcmc.Run([trueCoeff])\n",
    "print(samps.Mean())"
   ]
  },
  {
   "cell_type": "code",
   "execution_count": null,
   "metadata": {},
   "outputs": [],
   "source": [
    "nmimcmc = 1000\n",
    "\n",
    "#MIMCMC\n",
    "mioptions = dict()\n",
    "mioptions['NumSamples_0_0'] = nmimcmc * 100 # Number of samples per level\n",
    "mioptions['NumSamples_1_0'] = nmimcmc * 10\n",
    "mioptions['NumSamples_0_1'] = nmimcmc * 10\n",
    "mioptions['NumSamples_1_1'] = nmimcmc\n",
    "mioptions['Subsampling'] = 10\n",
    "mioptions['Proposal.Method'] = 'AMProposal'\n",
    "mioptions['Proposal.InitialVariance'] = 0.01\n",
    "mioptions['Proposal.AdaptSteps'] = 50\n",
    "mioptions['Proposal.AdaptStart'] = 100\n",
    "\n",
    "# Let's define a set of multiindices for our models\n",
    "multiindexset = mu.MultiIndexFactory.CreateFullTensor(orders=[1,1])\n",
    "\n",
    "# And put our models in a list, ordered like the multiindices\n",
    "models = []\n",
    "for i in range(0,multiindexset.Size()):\n",
    "    print(multiindexset.at(i).GetVector())\n",
    "    if (multiindexset.at(i).GetVector() == [0, 0]).all():\n",
    "        models.append(problem_coarse12)\n",
    "    elif (multiindexset.at(i).GetVector() == [1, 0]).all():\n",
    "        models.append(problem_coarse1)\n",
    "    elif (multiindexset.at(i).GetVector() == [0, 1]).all():\n",
    "        models.append(problem_coarse2)\n",
    "    elif (multiindexset.at(i).GetVector() == [1, 1]).all():\n",
    "        models.append(problem_fine)\n",
    "    else:\n",
    "        print (\"Model not defined for index!\")\n",
    "\n",
    "# Now, plug models into MIMCMC\n",
    "mimcmc = msa.MIMCMC(mioptions, trueCoeff, multiindexset, models)\n",
    "mimcmc.Run([trueCoeff])\n",
    "\n",
    "print(mimcmc.MeanParam())"
   ]
  },
  {
   "cell_type": "code",
   "execution_count": null,
   "metadata": {},
   "outputs": [],
   "source": []
  },
  {
   "cell_type": "code",
   "execution_count": null,
   "metadata": {},
   "outputs": [],
   "source": []
  }
 ],
 "metadata": {
  "kernelspec": {
   "display_name": "Python 3",
   "language": "python",
   "name": "python3"
  },
  "language_info": {
   "codemirror_mode": {
    "name": "ipython",
    "version": 3
   },
   "file_extension": ".py",
   "mimetype": "text/x-python",
   "name": "python",
   "nbconvert_exporter": "python",
   "pygments_lexer": "ipython3",
   "version": "3.8.2"
  }
 },
 "nbformat": 4,
 "nbformat_minor": 4
}
